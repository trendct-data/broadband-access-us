{
 "cells": [
  {
   "cell_type": "markdown",
   "metadata": {},
   "source": [
    "# How much of the country has sub-broadband Internet access?\n"
   ]
  },
  {
   "cell_type": "code",
   "execution_count": 1,
   "metadata": {
    "collapsed": true
   },
   "outputs": [],
   "source": [
    "import pandas as pd"
   ]
  },
  {
   "cell_type": "code",
   "execution_count": 2,
   "metadata": {
    "collapsed": true
   },
   "outputs": [],
   "source": [
    "# Load data \n",
    "data = pd.read_csv(\"data/fbd_us_with_satellite_jun2015_v3.csv\")"
   ]
  },
  {
   "cell_type": "code",
   "execution_count": 3,
   "metadata": {
    "collapsed": false
   },
   "outputs": [
    {
     "data": {
      "text/html": [
       "<div>\n",
       "<table border=\"1\" class=\"dataframe\">\n",
       "  <thead>\n",
       "    <tr style=\"text-align: right;\">\n",
       "      <th></th>\n",
       "      <th>LogRecNo</th>\n",
       "      <th>Provider_Id</th>\n",
       "      <th>FRN</th>\n",
       "      <th>ProviderName</th>\n",
       "      <th>DBAName</th>\n",
       "      <th>HoldingCompanyName</th>\n",
       "      <th>HocoNum</th>\n",
       "      <th>HocoFinal</th>\n",
       "      <th>StateAbbr</th>\n",
       "      <th>BlockCode</th>\n",
       "      <th>TechCode</th>\n",
       "      <th>Consumer</th>\n",
       "      <th>MaxAdDown</th>\n",
       "      <th>MaxAdUp</th>\n",
       "      <th>Business</th>\n",
       "      <th>MaxCIRDown</th>\n",
       "      <th>MaxCIRUp</th>\n",
       "    </tr>\n",
       "  </thead>\n",
       "  <tbody>\n",
       "    <tr>\n",
       "      <th>0</th>\n",
       "      <td>1</td>\n",
       "      <td>10899</td>\n",
       "      <td>8702680</td>\n",
       "      <td>ADIR International Export Ltd d/b/a La Curacao</td>\n",
       "      <td>Curatel</td>\n",
       "      <td>Curatel, LLC</td>\n",
       "      <td>190014</td>\n",
       "      <td>Curatel, LLC</td>\n",
       "      <td>CA</td>\n",
       "      <td>6.037102e+13</td>\n",
       "      <td>10</td>\n",
       "      <td>1</td>\n",
       "      <td>0.8</td>\n",
       "      <td>0.4</td>\n",
       "      <td>0</td>\n",
       "      <td>0</td>\n",
       "      <td>0</td>\n",
       "    </tr>\n",
       "    <tr>\n",
       "      <th>1</th>\n",
       "      <td>2</td>\n",
       "      <td>10899</td>\n",
       "      <td>8702680</td>\n",
       "      <td>ADIR International Export Ltd d/b/a La Curacao</td>\n",
       "      <td>Curatel</td>\n",
       "      <td>Curatel, LLC</td>\n",
       "      <td>190014</td>\n",
       "      <td>Curatel, LLC</td>\n",
       "      <td>CA</td>\n",
       "      <td>6.037102e+13</td>\n",
       "      <td>10</td>\n",
       "      <td>1</td>\n",
       "      <td>1.5</td>\n",
       "      <td>0.8</td>\n",
       "      <td>0</td>\n",
       "      <td>0</td>\n",
       "      <td>0</td>\n",
       "    </tr>\n",
       "    <tr>\n",
       "      <th>2</th>\n",
       "      <td>3</td>\n",
       "      <td>10899</td>\n",
       "      <td>8702680</td>\n",
       "      <td>ADIR International Export Ltd d/b/a La Curacao</td>\n",
       "      <td>Curatel</td>\n",
       "      <td>Curatel, LLC</td>\n",
       "      <td>190014</td>\n",
       "      <td>Curatel, LLC</td>\n",
       "      <td>CA</td>\n",
       "      <td>6.037104e+13</td>\n",
       "      <td>10</td>\n",
       "      <td>1</td>\n",
       "      <td>4.0</td>\n",
       "      <td>1.5</td>\n",
       "      <td>0</td>\n",
       "      <td>0</td>\n",
       "      <td>0</td>\n",
       "    </tr>\n",
       "  </tbody>\n",
       "</table>\n",
       "</div>"
      ],
      "text/plain": [
       "   LogRecNo  Provider_Id      FRN  \\\n",
       "0         1        10899  8702680   \n",
       "1         2        10899  8702680   \n",
       "2         3        10899  8702680   \n",
       "\n",
       "                                     ProviderName  DBAName HoldingCompanyName  \\\n",
       "0  ADIR International Export Ltd d/b/a La Curacao  Curatel       Curatel, LLC   \n",
       "1  ADIR International Export Ltd d/b/a La Curacao  Curatel       Curatel, LLC   \n",
       "2  ADIR International Export Ltd d/b/a La Curacao  Curatel       Curatel, LLC   \n",
       "\n",
       "   HocoNum     HocoFinal StateAbbr     BlockCode  TechCode  Consumer  \\\n",
       "0   190014  Curatel, LLC        CA  6.037102e+13        10         1   \n",
       "1   190014  Curatel, LLC        CA  6.037102e+13        10         1   \n",
       "2   190014  Curatel, LLC        CA  6.037104e+13        10         1   \n",
       "\n",
       "   MaxAdDown  MaxAdUp  Business  MaxCIRDown  MaxCIRUp  \n",
       "0        0.8      0.4         0           0         0  \n",
       "1        1.5      0.8         0           0         0  \n",
       "2        4.0      1.5         0           0         0  "
      ]
     },
     "execution_count": 3,
     "metadata": {},
     "output_type": "execute_result"
    }
   ],
   "source": [
    "data.head(3)"
   ]
  },
  {
   "cell_type": "code",
   "execution_count": null,
   "metadata": {
    "collapsed": true
   },
   "outputs": [],
   "source": []
  },
  {
   "cell_type": "code",
   "execution_count": 4,
   "metadata": {
    "collapsed": false
   },
   "outputs": [
    {
     "name": "stdout",
     "output_type": "stream",
     "text": [
      "Started with 38231692 records.\n",
      "Narrowed down to 31045011 records.\n"
     ]
    }
   ],
   "source": [
    "# Return only the records where Consumer is set to 1 and MaxAdDown > 0\n",
    "def filter_data(df):\n",
    "    return df[(df[\"Consumer\"] == 1) & (df[\"MaxAdDown\"] > 0)]\n",
    " \n",
    "print \"Started with \" + str(len(data.index)) + \" records.\"\n",
    "print \"Narrowed down to \" + str(len(filter_data(data).index)) + \" records.\"\n"
   ]
  },
  {
   "cell_type": "code",
   "execution_count": 5,
   "metadata": {
    "collapsed": false
   },
   "outputs": [
    {
     "name": "stdout",
     "output_type": "stream",
     "text": [
      "Found 9512417 block records.\n"
     ]
    }
   ],
   "source": [
    "def by_block(df):\n",
    "    return df.groupby(\"BlockCode\").agg({\"MaxAdDown\":max,\"MaxAdUp\":max})\n",
    "\n",
    "def get_by_block(df):\n",
    "    df = by_block(filter_data(df))\n",
    "    return df\n",
    "\n",
    "print \"Found \" + str(len(get_by_block(data))) + \" block records.\""
   ]
  },
  {
   "cell_type": "code",
   "execution_count": 7,
   "metadata": {
    "collapsed": false
   },
   "outputs": [
    {
     "data": {
      "text/plain": [
       "0.064            1\n",
       "0.102            2\n",
       "0.120            3\n",
       "0.125            1\n",
       "0.128         5421\n",
       "0.152            1\n",
       "0.155            1\n",
       "0.159            2\n",
       "0.160            2\n",
       "0.190          905\n",
       "0.200        74725\n",
       "0.220            1\n",
       "0.250          799\n",
       "0.256        20465\n",
       "0.280            4\n",
       "0.300           77\n",
       "0.310          111\n",
       "0.352            5\n",
       "0.356            3\n",
       "0.368            1\n",
       "0.375          107\n",
       "0.380         4172\n",
       "0.384        37979\n",
       "0.386            1\n",
       "0.400        19652\n",
       "0.440          292\n",
       "0.459            1\n",
       "0.500         6932\n",
       "0.507            2\n",
       "0.509            1\n",
       "             ...  \n",
       "49.000        5557\n",
       "50.000      218441\n",
       "51.000        5137\n",
       "52.000           6\n",
       "60.000         318\n",
       "70.000         397\n",
       "75.000        2403\n",
       "80.000           8\n",
       "90.000         146\n",
       "99.000           1\n",
       "100.000     574550\n",
       "102.000          1\n",
       "105.000         15\n",
       "120.000       4616\n",
       "125.000       1651\n",
       "135.000          2\n",
       "150.000        598\n",
       "155.000      13562\n",
       "157.000          2\n",
       "160.000          1\n",
       "200.000       1124\n",
       "210.000          1\n",
       "250.000      15373\n",
       "275.000          1\n",
       "300.000       1136\n",
       "315.000          2\n",
       "400.000        334\n",
       "500.000       2808\n",
       "999.000         58\n",
       "1000.000    275995\n",
       "Name: MaxAdUp, dtype: int64"
      ]
     },
     "execution_count": 7,
     "metadata": {},
     "output_type": "execute_result"
    }
   ],
   "source": [
    "get_by_block(data)[\"MaxAdUp\"].value_counts().sort_index()"
   ]
  },
  {
   "cell_type": "code",
   "execution_count": null,
   "metadata": {
    "collapsed": false
   },
   "outputs": [],
   "source": [
    "get_by_block(data).apply(lambda x: round(x[\"MaxAdUp\"]), axis=1).value_counts().sort_index()"
   ]
  },
  {
   "cell_type": "code",
   "execution_count": 30,
   "metadata": {
    "collapsed": false
   },
   "outputs": [],
   "source": [
    "import json\n",
    "def get_by_state(df):\n",
    "    ret = {}\n",
    "    for st in df[\"StateAbbr\"].unique():\n",
    "        state_df = get_by_block(df[df[\"StateAbbr\"] == st])\n",
    "        total_blocks = len(state_df.index)\n",
    "        slow_blocks = len(state_df[(state_df[\"MaxAdDown\"] < 25) | (state_df[\"MaxAdUp\"] < 3)].index)\n",
    "        if total_blocks > 0:\n",
    "            pct_slow = slow_blocks * 100 / total_blocks\n",
    "        else:\n",
    "            pct_slow = 0\n",
    "        ret[st] = {\n",
    "            \"slow\": slow_blocks,\n",
    "            \"total\": total_blocks,\n",
    "            \"pct_slow\": pct_slow\n",
    "        }\n",
    "    return ret\n",
    "state_summary = pd.DataFrame(get_by_state(data)).transpose().reset_index()\n"
   ]
  },
  {
   "cell_type": "code",
   "execution_count": 45,
   "metadata": {
    "collapsed": false
   },
   "outputs": [
    {
     "name": "stdout",
     "output_type": "stream",
     "text": [
      "state\tslow blocks\n",
      "\t0%\n",
      "NJ\t2%\n",
      "RI\t2%\n",
      "MA\t7%\n",
      "WA\t8%\n",
      "NY\t8%\n",
      "VI\t10%\n",
      "NC\t12%\n",
      "NH\t15%\n",
      "MD\t15%\n",
      "CT\t16%\n",
      "PA\t17%\n",
      "TN\t21%\n",
      "OH\t21%\n",
      "OR\t22%\n",
      "DC\t23%\n",
      "SC\t23%\n",
      "SD\t24%\n",
      "ME\t25%\n",
      "ND\t29%\n",
      "UT\t29%\n",
      "MI\t30%\n",
      "DE\t30%\n",
      "VA\t34%\n",
      "HI\t35%\n",
      "NV\t35%\n",
      "TX\t36%\n",
      "WI\t36%\n",
      "LA\t37%\n",
      "PR\t37%\n",
      "MN\t38%\n",
      "CA\t40%\n",
      "FL\t41%\n",
      "IL\t42%\n",
      "VT\t42%\n",
      "GA\t44%\n",
      "MS\t46%\n",
      "WV\t47%\n",
      "KY\t48%\n",
      "MO\t48%\n",
      "IN\t48%\n",
      "AL\t50%\n",
      "CO\t52%\n",
      "KS\t53%\n",
      "MT\t59%\n",
      "NE\t59%\n",
      "IA\t60%\n",
      "AR\t62%\n",
      "AZ\t63%\n",
      "NM\t63%\n",
      "OK\t65%\n",
      "WY\t71%\n",
      "ID\t73%\n",
      "AK\t76%\n",
      "GU\t99%\n",
      "AS\t100%\n",
      "MP\t100%\n",
      "\n"
     ]
    },
    {
     "name": "stderr",
     "output_type": "stream",
     "text": [
      "/usr/local/lib/python2.7/site-packages/ipykernel/__main__.py:9: SettingWithCopyWarning: \n",
      "A value is trying to be set on a copy of a slice from a DataFrame.\n",
      "Try using .loc[row_indexer,col_indexer] = value instead\n",
      "\n",
      "See the caveats in the documentation: http://pandas.pydata.org/pandas-docs/stable/indexing.html#indexing-view-versus-copy\n"
     ]
    }
   ],
   "source": [
    "\n",
    "state_summary_sorted = state_summary.sort_values(by=\"pct_slow\").sort_values(by=\"pct_slow\")\n",
    "state_summary_sorted.columns = \"state\",\"pct slow\",\"slow blocks\",\"total blocks\"\n",
    "\n",
    "#state_summary.columns = \"state\",\"pct slow\",\"slow blocks\",\"total blocks\"\n",
    "#state_summary.reset_index()[[\"index\",\"pct_slow\"]].to_csv(sep=\"\\t\",index=False)\n",
    "\n",
    "state_summary_txt = state_summary_sorted[[\"state\",\"pct slow\"]]\n",
    "state_summary_txt[\"slow blocks\"] = state_summary_txt.apply(lambda x: str(x[\"pct slow\"]) + \"%\", axis=1)\n",
    "print state_summary_txt[[\"state\",\"slow blocks\"]].to_csv(sep=\"\\t\",index=False)"
   ]
  },
  {
   "cell_type": "code",
   "execution_count": 13,
   "metadata": {
    "collapsed": false
   },
   "outputs": [
    {
     "data": {
      "text/html": [
       "<div>\n",
       "<table border=\"1\" class=\"dataframe\">\n",
       "  <thead>\n",
       "    <tr style=\"text-align: right;\">\n",
       "      <th></th>\n",
       "      <th>pct_slow</th>\n",
       "      <th>slow</th>\n",
       "      <th>total</th>\n",
       "    </tr>\n",
       "  </thead>\n",
       "  <tbody>\n",
       "    <tr>\n",
       "      <th>CT</th>\n",
       "      <td>16</td>\n",
       "      <td>10951</td>\n",
       "      <td>65560</td>\n",
       "    </tr>\n",
       "  </tbody>\n",
       "</table>\n",
       "</div>"
      ],
      "text/plain": [
       "    pct_slow   slow  total\n",
       "CT        16  10951  65560"
      ]
     },
     "execution_count": 13,
     "metadata": {},
     "output_type": "execute_result"
    }
   ],
   "source": [
    "ct_data = pd.read_csv(\"data/CT-Fixed-Jun2015-v3.csv\")\n",
    "pd.DataFrame(get_by_state(ct_data)).transpose()"
   ]
  },
  {
   "cell_type": "code",
   "execution_count": 14,
   "metadata": {
    "collapsed": false
   },
   "outputs": [
    {
     "data": {
      "text/plain": [
       "427792"
      ]
     },
     "execution_count": 14,
     "metadata": {},
     "output_type": "execute_result"
    }
   ],
   "source": [
    "len(data[data[\"StateAbbr\"] == \"CT\"].index)"
   ]
  },
  {
   "cell_type": "code",
   "execution_count": 15,
   "metadata": {
    "collapsed": false
   },
   "outputs": [
    {
     "data": {
      "text/plain": [
       "427792"
      ]
     },
     "execution_count": 15,
     "metadata": {},
     "output_type": "execute_result"
    }
   ],
   "source": [
    "len(ct_data.index)"
   ]
  },
  {
   "cell_type": "code",
   "execution_count": 46,
   "metadata": {
    "collapsed": false
   },
   "outputs": [
    {
     "data": {
      "text/plain": [
       "pct_slow       2228\n",
       "slow        3651832\n",
       "total       9512417\n",
       "dtype: int64"
      ]
     },
     "execution_count": 46,
     "metadata": {},
     "output_type": "execute_result"
    }
   ],
   "source": [
    "state_summary.sum()"
   ]
  },
  {
   "cell_type": "code",
   "execution_count": 48,
   "metadata": {
    "collapsed": false
   },
   "outputs": [
    {
     "data": {
      "text/plain": [
       "38"
      ]
     },
     "execution_count": 48,
     "metadata": {},
     "output_type": "execute_result"
    }
   ],
   "source": [
    "state_summary[\"slow\"].sum() * 100 / state_summary[\"total\"].sum()"
   ]
  },
  {
   "cell_type": "code",
   "execution_count": null,
   "metadata": {
    "collapsed": true
   },
   "outputs": [],
   "source": []
  }
 ],
 "metadata": {
  "kernelspec": {
   "display_name": "Python 2",
   "language": "python",
   "name": "python2"
  },
  "language_info": {
   "codemirror_mode": {
    "name": "ipython",
    "version": 2
   },
   "file_extension": ".py",
   "mimetype": "text/x-python",
   "name": "python",
   "nbconvert_exporter": "python",
   "pygments_lexer": "ipython2",
   "version": "2.7.11"
  }
 },
 "nbformat": 4,
 "nbformat_minor": 0
}
